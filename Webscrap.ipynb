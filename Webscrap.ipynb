{
 "cells": [
  {
   "cell_type": "code",
   "execution_count": 24,
   "id": "03487137-e82a-4b3b-b7d0-4bc194b891c7",
   "metadata": {},
   "outputs": [
    {
     "name": "stdout",
     "output_type": "stream",
     "text": [
      "Defaulting to user installation because normal site-packages is not writeable\n",
      "Collecting selenium\n",
      "  Downloading selenium-4.25.0-py3-none-any.whl.metadata (7.1 kB)\n",
      "Requirement already satisfied: urllib3<3,>=1.26 in c:\\programdata\\anaconda3\\lib\\site-packages (from urllib3[socks]<3,>=1.26->selenium) (2.2.2)\n",
      "Collecting trio~=0.17 (from selenium)\n",
      "  Downloading trio-0.26.2-py3-none-any.whl.metadata (8.6 kB)\n",
      "Collecting trio-websocket~=0.9 (from selenium)\n",
      "  Downloading trio_websocket-0.11.1-py3-none-any.whl.metadata (4.7 kB)\n",
      "Requirement already satisfied: certifi>=2021.10.8 in c:\\programdata\\anaconda3\\lib\\site-packages (from selenium) (2024.7.4)\n",
      "Requirement already satisfied: typing_extensions~=4.9 in c:\\programdata\\anaconda3\\lib\\site-packages (from selenium) (4.11.0)\n",
      "Requirement already satisfied: websocket-client~=1.8 in c:\\programdata\\anaconda3\\lib\\site-packages (from selenium) (1.8.0)\n",
      "Collecting attrs>=23.2.0 (from trio~=0.17->selenium)\n",
      "  Using cached attrs-24.2.0-py3-none-any.whl.metadata (11 kB)\n",
      "Requirement already satisfied: sortedcontainers in c:\\programdata\\anaconda3\\lib\\site-packages (from trio~=0.17->selenium) (2.4.0)\n",
      "Requirement already satisfied: idna in c:\\programdata\\anaconda3\\lib\\site-packages (from trio~=0.17->selenium) (3.7)\n",
      "Collecting outcome (from trio~=0.17->selenium)\n",
      "  Downloading outcome-1.3.0.post0-py2.py3-none-any.whl.metadata (2.6 kB)\n",
      "Requirement already satisfied: sniffio>=1.3.0 in c:\\programdata\\anaconda3\\lib\\site-packages (from trio~=0.17->selenium) (1.3.0)\n",
      "Requirement already satisfied: cffi>=1.14 in c:\\programdata\\anaconda3\\lib\\site-packages (from trio~=0.17->selenium) (1.16.0)\n",
      "Collecting wsproto>=0.14 (from trio-websocket~=0.9->selenium)\n",
      "  Downloading wsproto-1.2.0-py3-none-any.whl.metadata (5.6 kB)\n",
      "Requirement already satisfied: pysocks!=1.5.7,<2.0,>=1.5.6 in c:\\programdata\\anaconda3\\lib\\site-packages (from urllib3[socks]<3,>=1.26->selenium) (1.7.1)\n",
      "Requirement already satisfied: pycparser in c:\\programdata\\anaconda3\\lib\\site-packages (from cffi>=1.14->trio~=0.17->selenium) (2.21)\n",
      "Requirement already satisfied: h11<1,>=0.9.0 in c:\\programdata\\anaconda3\\lib\\site-packages (from wsproto>=0.14->trio-websocket~=0.9->selenium) (0.14.0)\n",
      "Downloading selenium-4.25.0-py3-none-any.whl (9.7 MB)\n",
      "   ---------------------------------------- 0.0/9.7 MB ? eta -:--:--\n",
      "   ---------------------------------------- 0.0/9.7 MB 2.0 MB/s eta 0:00:05\n",
      "   ---------------------------------------- 0.1/9.7 MB 656.4 kB/s eta 0:00:15\n",
      "   - -------------------------------------- 0.3/9.7 MB 2.5 MB/s eta 0:00:04\n",
      "   - -------------------------------------- 0.3/9.7 MB 2.4 MB/s eta 0:00:04\n",
      "   - -------------------------------------- 0.5/9.7 MB 2.3 MB/s eta 0:00:05\n",
      "   -- ------------------------------------- 0.5/9.7 MB 2.2 MB/s eta 0:00:05\n",
      "   -- ------------------------------------- 0.5/9.7 MB 2.2 MB/s eta 0:00:05\n",
      "   -- ------------------------------------- 0.5/9.7 MB 1.6 MB/s eta 0:00:06\n",
      "   -- ------------------------------------- 0.7/9.7 MB 1.7 MB/s eta 0:00:06\n",
      "   --- ------------------------------------ 0.8/9.7 MB 1.8 MB/s eta 0:00:05\n",
      "   --- ------------------------------------ 0.8/9.7 MB 1.7 MB/s eta 0:00:06\n",
      "   --- ------------------------------------ 0.8/9.7 MB 1.7 MB/s eta 0:00:06\n",
      "   --- ------------------------------------ 0.9/9.7 MB 1.6 MB/s eta 0:00:06\n",
      "   ---- ----------------------------------- 1.1/9.7 MB 1.7 MB/s eta 0:00:05\n",
      "   ---- ----------------------------------- 1.1/9.7 MB 1.7 MB/s eta 0:00:05\n",
      "   ----- ---------------------------------- 1.4/9.7 MB 1.9 MB/s eta 0:00:05\n",
      "   ----- ---------------------------------- 1.4/9.7 MB 1.9 MB/s eta 0:00:05\n",
      "   ------ --------------------------------- 1.5/9.7 MB 1.9 MB/s eta 0:00:05\n",
      "   ------ --------------------------------- 1.6/9.7 MB 1.9 MB/s eta 0:00:05\n",
      "   ------- -------------------------------- 1.7/9.7 MB 1.9 MB/s eta 0:00:05\n",
      "   ------- -------------------------------- 1.8/9.7 MB 1.9 MB/s eta 0:00:05\n",
      "   ------- -------------------------------- 1.9/9.7 MB 1.9 MB/s eta 0:00:05\n",
      "   -------- ------------------------------- 2.1/9.7 MB 2.0 MB/s eta 0:00:04\n",
      "   -------- ------------------------------- 2.1/9.7 MB 1.9 MB/s eta 0:00:04\n",
      "   --------- ------------------------------ 2.2/9.7 MB 1.9 MB/s eta 0:00:04\n",
      "   --------- ------------------------------ 2.3/9.7 MB 1.9 MB/s eta 0:00:04\n",
      "   --------- ------------------------------ 2.4/9.7 MB 2.0 MB/s eta 0:00:04\n",
      "   ---------- ----------------------------- 2.5/9.7 MB 2.0 MB/s eta 0:00:04\n",
      "   ---------- ----------------------------- 2.6/9.7 MB 2.0 MB/s eta 0:00:04\n",
      "   ----------- ---------------------------- 2.7/9.7 MB 2.0 MB/s eta 0:00:04\n",
      "   ----------- ---------------------------- 2.9/9.7 MB 2.0 MB/s eta 0:00:04\n",
      "   ------------ --------------------------- 3.0/9.7 MB 2.0 MB/s eta 0:00:04\n",
      "   ------------ --------------------------- 3.1/9.7 MB 2.0 MB/s eta 0:00:04\n",
      "   ------------- -------------------------- 3.2/9.7 MB 2.1 MB/s eta 0:00:04\n",
      "   ------------- -------------------------- 3.3/9.7 MB 2.1 MB/s eta 0:00:04\n",
      "   -------------- ------------------------- 3.5/9.7 MB 2.1 MB/s eta 0:00:03\n",
      "   -------------- ------------------------- 3.6/9.7 MB 2.1 MB/s eta 0:00:03\n",
      "   --------------- ------------------------ 3.8/9.7 MB 2.2 MB/s eta 0:00:03\n",
      "   ---------------- ----------------------- 3.9/9.7 MB 2.2 MB/s eta 0:00:03\n",
      "   ---------------- ----------------------- 4.0/9.7 MB 2.2 MB/s eta 0:00:03\n",
      "   ---------------- ----------------------- 4.1/9.7 MB 2.2 MB/s eta 0:00:03\n",
      "   ----------------- ---------------------- 4.2/9.7 MB 2.2 MB/s eta 0:00:03\n",
      "   ----------------- ---------------------- 4.4/9.7 MB 2.2 MB/s eta 0:00:03\n",
      "   ------------------ --------------------- 4.5/9.7 MB 2.2 MB/s eta 0:00:03\n",
      "   ------------------- -------------------- 4.6/9.7 MB 2.2 MB/s eta 0:00:03\n",
      "   ------------------- -------------------- 4.7/9.7 MB 2.2 MB/s eta 0:00:03\n",
      "   -------------------- ------------------- 4.9/9.7 MB 2.2 MB/s eta 0:00:03\n",
      "   -------------------- ------------------- 4.9/9.7 MB 2.2 MB/s eta 0:00:03\n",
      "   -------------------- ------------------- 5.1/9.7 MB 2.2 MB/s eta 0:00:03\n",
      "   --------------------- ------------------ 5.2/9.7 MB 2.2 MB/s eta 0:00:03\n",
      "   --------------------- ------------------ 5.3/9.7 MB 2.2 MB/s eta 0:00:02\n",
      "   --------------------- ------------------ 5.3/9.7 MB 2.2 MB/s eta 0:00:02\n",
      "   ---------------------- ----------------- 5.4/9.7 MB 2.2 MB/s eta 0:00:02\n",
      "   ---------------------- ----------------- 5.5/9.7 MB 2.2 MB/s eta 0:00:02\n",
      "   ----------------------- ---------------- 5.6/9.7 MB 2.2 MB/s eta 0:00:02\n",
      "   ----------------------- ---------------- 5.8/9.7 MB 2.2 MB/s eta 0:00:02\n",
      "   ------------------------ --------------- 5.8/9.7 MB 2.2 MB/s eta 0:00:02\n",
      "   ------------------------ --------------- 6.0/9.7 MB 2.2 MB/s eta 0:00:02\n",
      "   ------------------------- -------------- 6.1/9.7 MB 2.2 MB/s eta 0:00:02\n",
      "   ------------------------- -------------- 6.2/9.7 MB 2.2 MB/s eta 0:00:02\n",
      "   -------------------------- ------------- 6.3/9.7 MB 2.2 MB/s eta 0:00:02\n",
      "   -------------------------- ------------- 6.5/9.7 MB 2.3 MB/s eta 0:00:02\n",
      "   -------------------------- ------------- 6.5/9.7 MB 2.3 MB/s eta 0:00:02\n",
      "   --------------------------- ------------ 6.7/9.7 MB 2.3 MB/s eta 0:00:02\n",
      "   ---------------------------- ----------- 6.8/9.7 MB 2.3 MB/s eta 0:00:02\n",
      "   ---------------------------- ----------- 6.9/9.7 MB 2.3 MB/s eta 0:00:02\n",
      "   ----------------------------- ---------- 7.1/9.7 MB 2.3 MB/s eta 0:00:02\n",
      "   ----------------------------- ---------- 7.2/9.7 MB 2.3 MB/s eta 0:00:02\n",
      "   ------------------------------ --------- 7.4/9.7 MB 2.3 MB/s eta 0:00:02\n",
      "   ------------------------------ --------- 7.4/9.7 MB 2.3 MB/s eta 0:00:01\n",
      "   ------------------------------- -------- 7.5/9.7 MB 2.3 MB/s eta 0:00:01\n",
      "   ------------------------------- -------- 7.6/9.7 MB 2.3 MB/s eta 0:00:01\n",
      "   -------------------------------- ------- 7.8/9.7 MB 2.3 MB/s eta 0:00:01\n",
      "   -------------------------------- ------- 7.8/9.7 MB 2.3 MB/s eta 0:00:01\n",
      "   --------------------------------- ------ 8.0/9.7 MB 2.3 MB/s eta 0:00:01\n",
      "   --------------------------------- ------ 8.1/9.7 MB 2.3 MB/s eta 0:00:01\n",
      "   ---------------------------------- ----- 8.3/9.7 MB 2.3 MB/s eta 0:00:01\n",
      "   ---------------------------------- ----- 8.4/9.7 MB 2.3 MB/s eta 0:00:01\n",
      "   ----------------------------------- ---- 8.5/9.7 MB 2.3 MB/s eta 0:00:01\n",
      "   ----------------------------------- ---- 8.7/9.7 MB 2.3 MB/s eta 0:00:01\n",
      "   ------------------------------------ --- 8.7/9.7 MB 2.3 MB/s eta 0:00:01\n",
      "   ------------------------------------ --- 8.9/9.7 MB 2.3 MB/s eta 0:00:01\n",
      "   ------------------------------------- -- 9.0/9.7 MB 2.3 MB/s eta 0:00:01\n",
      "   ------------------------------------- -- 9.1/9.7 MB 2.3 MB/s eta 0:00:01\n",
      "   -------------------------------------- - 9.2/9.7 MB 2.3 MB/s eta 0:00:01\n",
      "   -------------------------------------- - 9.3/9.7 MB 2.3 MB/s eta 0:00:01\n",
      "   -------------------------------------- - 9.4/9.7 MB 2.3 MB/s eta 0:00:01\n",
      "   ---------------------------------------  9.5/9.7 MB 2.3 MB/s eta 0:00:01\n",
      "   ---------------------------------------  9.6/9.7 MB 2.3 MB/s eta 0:00:01\n",
      "   ---------------------------------------  9.6/9.7 MB 2.3 MB/s eta 0:00:01\n",
      "   ---------------------------------------  9.7/9.7 MB 2.3 MB/s eta 0:00:01\n",
      "   ---------------------------------------  9.7/9.7 MB 2.3 MB/s eta 0:00:01\n",
      "   ---------------------------------------- 9.7/9.7 MB 2.2 MB/s eta 0:00:00\n",
      "Downloading trio-0.26.2-py3-none-any.whl (475 kB)\n",
      "   ---------------------------------------- 0.0/476.0 kB ? eta -:--:--\n",
      "   ---------- ----------------------------- 122.9/476.0 kB 2.4 MB/s eta 0:00:01\n",
      "   -------------- ------------------------- 174.1/476.0 kB 2.6 MB/s eta 0:00:01\n",
      "   --------------------- ------------------ 256.0/476.0 kB 2.0 MB/s eta 0:00:01\n",
      "   ------------------------- -------------- 307.2/476.0 kB 1.9 MB/s eta 0:00:01\n",
      "   ------------------------------ --------- 368.6/476.0 kB 1.6 MB/s eta 0:00:01\n",
      "   ---------------------------------- ----- 409.6/476.0 kB 1.6 MB/s eta 0:00:01\n",
      "   ---------------------------------------- 476.0/476.0 kB 1.4 MB/s eta 0:00:00\n",
      "Downloading trio_websocket-0.11.1-py3-none-any.whl (17 kB)\n",
      "Using cached attrs-24.2.0-py3-none-any.whl (63 kB)\n",
      "Downloading wsproto-1.2.0-py3-none-any.whl (24 kB)\n",
      "Downloading outcome-1.3.0.post0-py2.py3-none-any.whl (10 kB)\n",
      "Installing collected packages: wsproto, attrs, outcome, trio, trio-websocket, selenium\n",
      "Successfully installed attrs-24.2.0 outcome-1.3.0.post0 selenium-4.25.0 trio-0.26.2 trio-websocket-0.11.1 wsproto-1.2.0\n",
      "Note: you may need to restart the kernel to use updated packages.\n"
     ]
    }
   ],
   "source": [
    "pip install selenium"
   ]
  },
  {
   "cell_type": "code",
   "execution_count": 63,
   "id": "239f839d-127e-45b5-bd28-9c6a33b79799",
   "metadata": {},
   "outputs": [],
   "source": [
    "from selenium import webdriver\n",
    "from selenium.webdriver.common.keys import Keys\n",
    "from selenium.webdriver.common.by import By\n",
    "from selenium.webdriver.support.ui import WebDriverWait\n",
    "from selenium.webdriver.support import expected_conditions as EC\n",
    "import pandas as pd\n",
    "from bs4 import BeautifulSoup"
   ]
  },
  {
   "cell_type": "code",
   "execution_count": 40,
   "id": "fce1d1c5-7ba1-4121-bcdf-23f83e178424",
   "metadata": {},
   "outputs": [],
   "source": [
    "driver = webdriver.Chrome()"
   ]
  },
  {
   "cell_type": "code",
   "execution_count": 38,
   "id": "38130846-1ee1-4bb5-ac15-0988986bdfe4",
   "metadata": {},
   "outputs": [],
   "source": [
    "driver.get(url)"
   ]
  },
  {
   "cell_type": "code",
   "execution_count": 59,
   "id": "21d0ed4e-8f59-4fa9-baf2-4872dc577ba8",
   "metadata": {},
   "outputs": [],
   "source": [
    "url = \"https://www.shine.com/\"\n",
    "driver = webdriver.Chrome()\n",
    "driver.get(url)"
   ]
  },
  {
   "cell_type": "code",
   "execution_count": null,
   "id": "8f1171e4-6e8f-4115-bc4c-8480f67542b7",
   "metadata": {},
   "outputs": [],
   "source": [
    "job_title_field = driver.find_element_by_id(\"id_job_title_skills\")\n",
    "job_title_field.send_keys(\"Data Scientist\")"
   ]
  },
  {
   "cell_type": "code",
   "execution_count": null,
   "id": "1a364c13-33fd-4dbb-85f4-b9d0785d6e54",
   "metadata": {},
   "outputs": [],
   "source": [
    "location_field = driver.find_element_by_id(\"id_location\")\n",
    "location_field.send_keys(\"Bangalore\")"
   ]
  },
  {
   "cell_type": "code",
   "execution_count": null,
   "id": "a98744f2-5e0b-4f89-a2f3-f9c6889acdb2",
   "metadata": {},
   "outputs": [],
   "source": [
    "search_button = driver.find_element_by_id(\"search_btn\")\n",
    "search_button.click()"
   ]
  },
  {
   "cell_type": "code",
   "execution_count": null,
   "id": "ae20b4b4-e0bd-42c2-b925-ecfdc9448f97",
   "metadata": {},
   "outputs": [],
   "source": [
    "job_data = []\n",
    "for i in range(1, 11):\n",
    "    job_card = WebDriverWait(driver, 10).until(\n",
    "        EC.presence_of_element_located((By.XPATH, f\"//*[@id='job_card_{i}']\"))\n",
    "    )\n",
    "    soup = BeautifulSoup(job_card.get_attribute(\"outerHTML\"), \"html.parser\")\n",
    "\n",
    "    job_title = soup.find(\"h2\", class_=\"job_title\").text.strip()\n",
    "    job_location = soup.find(\"span\", class_=\"job_location\").text.strip()\n",
    "    company_name = soup.find(\"span\", class_=\"company_name\").text.strip()\n",
    "    experience_required = soup.find(\"span\", class_=\"experience_required\").text.strip()\n",
    "\n",
    "    job_data.append({\n",
    "        \"Job Title\": job_title,\n",
    "        \"Job Location\": job_location,\n",
    "        \"Company Name\": company_name,\n",
    "        \"Experience Required\": experience_required\n",
    "    })"
   ]
  },
  {
   "cell_type": "code",
   "execution_count": null,
   "id": "547af3ee-0bbf-41ab-9490-12c2c223fea1",
   "metadata": {},
   "outputs": [],
   "source": [
    "df = pd.DataFrame(job_data)\n",
    "print(df)\n",
    "driver.quit()"
   ]
  },
  {
   "cell_type": "code",
   "execution_count": null,
   "id": "6454b222-027e-4de6-a31b-6ac3a9fb5481",
   "metadata": {},
   "outputs": [],
   "source": []
  },
  {
   "cell_type": "code",
   "execution_count": 65,
   "id": "a0a929ae-8329-4645-98f8-e374365576c7",
   "metadata": {},
   "outputs": [],
   "source": [
    "url = \"https://www.flipkart.com/apple-iphone-11-black-64-gb/product-reviews/itm4e5041ba101fd?pid=MOBFWQ6BXGJCEYNY&lid=LSTMOBFWQ6BXGJCEYNYZXSHRJ&marketplace=FLIPKART\"\n",
    "driver = webdriver.Chrome()  # Replace with your preferred browser\n",
    "driver.get(url)"
   ]
  },
  {
   "cell_type": "code",
   "execution_count": null,
   "id": "f9bf4d3c-dc2c-4d26-9b24-0091e4ad2d46",
   "metadata": {},
   "outputs": [],
   "source": [
    "see_all_reviews_button = WebDriverWait(driver, 10).until(\n",
    "    EC.presence_of_element_located((By.XPATH, \"//div[@class='_3v8RuL']\"))\n",
    ")\n",
    "see_all_reviews_button.click()"
   ]
  },
  {
   "cell_type": "code",
   "execution_count": null,
   "id": "72f67ecd-b196-40af-b858-5c8817ba5c59",
   "metadata": {},
   "outputs": [],
   "source": [
    "for i in range(1, 101):\n",
    "    review_card = WebDriverWait(driver, 10).until(\n",
    "        EC.presence_of_element_located((By.XPATH, f\"//*[@id='review-{i}']\"))\n",
    "    )\n",
    "    soup = BeautifulSoup(review_card.get_attribute(\"outerHTML\"), \"html.parser\")\n",
    "\n",
    "    rating = soup.find(\"div\", class_=\"_3LWZlK _1BLPMq\").text.strip()\n",
    "    review_title = soup.find(\"p\", class=\"_2-N8zT\").text.strip()\n",
    "    review_text = soup.find(\"div\", class=\"t-ZTKy\").text.strip()\n",
    "    reviewer_name = soup.find(\"p\", class=\"_3LYOAd _3sxSiS\").text.strip()\n",
    "    review_date = soup.find(\"p\", class=\"_3LYOAd\").text.strip()\n",
    "\n",
    "    reviews_data.append({\n",
    "        \"Rating\": rating,\n",
    "        \"Review Title\": review_title,\n",
    "        \"Review Text\": review_text,\n",
    "        \"Reviewer Name\": reviewer_name,\n",
    "        \"Review Date\": review_date\n",
    "    })"
   ]
  },
  {
   "cell_type": "code",
   "execution_count": null,
   "id": "42427ef9-120d-472a-a9c0-9596b649857b",
   "metadata": {},
   "outputs": [],
   "source": [
    "df = pd.DataFrame(reviews_data)\n",
    "print(df)\n",
    "driver.quit()"
   ]
  },
  {
   "cell_type": "code",
   "execution_count": null,
   "id": "c3fbc044-11a2-4579-88e7-a9574478a362",
   "metadata": {},
   "outputs": [],
   "source": []
  },
  {
   "cell_type": "code",
   "execution_count": 67,
   "id": "f24f9912-b183-461e-ba19-f713a5e43bdf",
   "metadata": {},
   "outputs": [],
   "source": [
    "url = \"https://www.flipkart.com/search?q=sneakers\"\n",
    "driver = webdriver.Chrome()  # Replace with your preferred browser\n",
    "driver.get(url)"
   ]
  },
  {
   "cell_type": "code",
   "execution_count": null,
   "id": "89be4a60-7d53-4b70-9de2-8b3c45c658bb",
   "metadata": {},
   "outputs": [],
   "source": [
    "sneakers_data = []\n",
    "for i in range(1, 101):\n",
    "    sneaker_card = WebDriverWait(driver, 10).until(\n",
    "        EC.presence_of_element_located((By.XPATH, f\"//*[@id='container']//div[{i}]\"))\n",
    "    )\n",
    "    soup = BeautifulSoup(sneaker_card.get_attribute(\"outerHTML\"), \"html.parser\")\n",
    "\n",
    "    brand = soup.find(\"div\", class=\"_2WkVRV\").text.strip()\n",
    "    product_description = soup.find(\"div\", class=\"_3Djpdu\").text.strip()\n",
    "    price = soup.find(\"div\", class=\"_1vC4OE _2rQ-NK\").text.strip()\n",
    "\n",
    "    sneakers_data.append({\n",
    "        \"Brand\": brand,\n",
    "        \"Product Description\": product_description,\n",
    "        \"Price\": price\n",
    "    })\n",
    "\n",
    "# Step 3: Create a dataframe of the scraped sneakers data\n",
    "df = pd.DataFrame(sneakers_data)\n",
    "print(df)\n",
    "\n",
    "# Close the browser\n",
    "driver.quit()"
   ]
  },
  {
   "cell_type": "code",
   "execution_count": null,
   "id": "87e0415e-f11f-42b0-bc99-675dcc87af4b",
   "metadata": {},
   "outputs": [],
   "source": []
  },
  {
   "cell_type": "code",
   "execution_count": 69,
   "id": "9fac5986-577c-4865-883c-6d153024d5de",
   "metadata": {},
   "outputs": [],
   "source": [
    "url = \"https://www.amazon.in/\"\n",
    "driver = webdriver.Chrome()  # Replace with your preferred browser\n",
    "driver.get(url)"
   ]
  },
  {
   "cell_type": "code",
   "execution_count": null,
   "id": "35fea361-e2bf-4263-a032-5412f229ca19",
   "metadata": {},
   "outputs": [],
   "source": [
    "search_box = driver.find_element_by_id(\"twotabsearchtextbox\")\n",
    "search_box.send_keys(\"Laptop\")\n",
    "search_box.send_keys(Keys.RETURN)"
   ]
  },
  {
   "cell_type": "code",
   "execution_count": null,
   "id": "438af45b-c58f-4f04-ac33-514621571f1f",
   "metadata": {},
   "outputs": [],
   "source": [
    "cpu_type_filter = WebDriverWait(driver, 10).until(\n",
    "    EC.presence_of_element_located((By.XPATH, \"//span[text()='Intel Core i7']\"))\n",
    ")\n",
    "cpu_type_filter.click()\n",
    "\n",
    "laptops_data = []\n",
    "for i in range(1, 11):\n",
    "    laptop_card = WebDriverWait(driver, 10).until(\n",
    "        EC.presence_of_element_located((By.XPATH, f\"//*[@id='search']//div[{i}]\"))\n",
    "    )\n",
    "    soup = BeautifulSoup(laptop_card.get_attribute(\"outerHTML\"), \"html.parser\")\n",
    "\n",
    "    title = soup.find(\"span\", class=\"a-size-medium a-color-base a-text-normal\").text.strip()\n",
    "    ratings = soup.find(\"span\", class=\"a-icon-alt\").text.strip()\n",
    "    price = soup.find(\"span\", class=\"a-price-whole\").text.strip()\n",
    "\n",
    "    laptops_data.append({\n",
    "        \"Title\": title,\n",
    "        \"Ratings\": ratings,\n",
    "        \"Price\": price\n",
    "    })\n",
    "df = pd.DataFrame(laptops_data)\n",
    "print(df)\n",
    "\n",
    "driver.quit("
   ]
  },
  {
   "cell_type": "code",
   "execution_count": null,
   "id": "d26332df-50d8-432d-b1a7-66824b0d0896",
   "metadata": {},
   "outputs": [],
   "source": []
  },
  {
   "cell_type": "code",
   "execution_count": 71,
   "id": "0df88ba4-cf11-4a30-a85e-fc9ccbd4a1e7",
   "metadata": {},
   "outputs": [],
   "source": [
    "url = \"https://www.azquotes.com/\"\n",
    "driver = webdriver.Chrome()  # Replace with your preferred browser\n",
    "driver.get(url)"
   ]
  },
  {
   "cell_type": "code",
   "execution_count": null,
   "id": "fd680742-c20c-4eab-a0d5-93fbacd2fdc5",
   "metadata": {},
   "outputs": [],
   "source": [
    "top_quotes_button = WebDriverWait(driver, 10).until(\n",
    "    EC.presence_of_element_located((By.LINK_TEXT, \"Top Quotes\"))\n",
    ")\n",
    "top_quotes_button.click()"
   ]
  },
  {
   "cell_type": "code",
   "execution_count": null,
   "id": "d9470659-11b3-4068-80d4-841be9e271e5",
   "metadata": {},
   "outputs": [],
   "source": [
    "quotes_data = []\n",
    "for i in range(1, 1001):\n",
    "    quote_card = WebDriverWait(driver, 10).until(\n",
    "        EC.presence_of_element_located((By.XPATH, f\"//*[@id='quotes']//div[{i}]\"))\n",
    "    )\n",
    "    soup = BeautifulSoup(quote_card.get_attribute(\"outerHTML\"), \"html.parser\")\n",
    "\n",
    "    quote = soup.find(\"div\", class=\"quote\").text.strip()\n",
    "    author = soup.find(\"span\", class=\"author\").text.strip()\n",
    "    type_of_quote = soup.find(\"span\", class=\"tag\").text.strip()\n",
    "\n",
    "    quotes_data.append({\n",
    "        \"Quote\": quote,\n",
    "        \"Author\": author,\n",
    "        \"Type of Quote\": type_of_quote\n",
    "    })\n",
    "df = pd.DataFrame(quotes_data)\n",
    "print(df)\n",
    "driver.quit()"
   ]
  },
  {
   "cell_type": "code",
   "execution_count": null,
   "id": "c2db0cf4-ae5f-4a0b-ab55-f399cf5143cb",
   "metadata": {},
   "outputs": [],
   "source": []
  },
  {
   "cell_type": "code",
   "execution_count": 73,
   "id": "da152e6a-26a7-4a0d-a6df-79a8b1645679",
   "metadata": {},
   "outputs": [],
   "source": [
    "url = \"https://www.jagranjosh.com/general-knowledge/list-of-all-prime-ministers-of-india-1473165149-1\"\n",
    "driver = webdriver.Chrome()  # Replace with your preferred browser\n",
    "driver.get(url)"
   ]
  },
  {
   "cell_type": "code",
   "execution_count": null,
   "id": "de7c8fdb-bbd7-48a1-b2a0-4fd3b8e3d1d8",
   "metadata": {},
   "outputs": [],
   "source": [
    "prime_ministers_data = []\n",
    "table = WebDriverWait(driver, 10).until(\n",
    "    EC.presence_of_element_located((By.XPATH, \"//table[@class='table table-bordered']\"))\n",
    ")\n",
    "soup = BeautifulSoup(table.get_attribute(\"outerHTML\"), \"html.parser\")\n",
    "\n",
    "for row in soup.find_all(\"tr\")[1:]:\n",
    "    cols = row.find_all(\"td\")\n",
    "    name = cols[0].text.strip()\n",
    "    born_dead = cols[1].text.strip()\n",
    "    term_of_office = cols[2].text.strip()\n",
    "    remarks = cols[3].text.strip()\n",
    "\n",
    "    prime_ministers_data.append({\n",
    "        \"Name\": name,\n",
    "        \"Born-Dead\": born_dead,\n",
    "        \"Term of Office\": term_of_office,\n",
    "        \"Remarks\": remarks\n",
    "    })\n",
    "df = pd.DataFrame(prime_ministers_data)\n",
    "print(df)\n",
    "driver.quit()"
   ]
  },
  {
   "cell_type": "code",
   "execution_count": null,
   "id": "3cdf3b2f-db96-4e76-9f94-46949d861696",
   "metadata": {},
   "outputs": [],
   "source": []
  },
  {
   "cell_type": "code",
   "execution_count": 75,
   "id": "db3f1562-0090-4369-81b4-a7f57d325dfa",
   "metadata": {},
   "outputs": [],
   "source": [
    "url = \"https://www.motor1.com/\"\n",
    "driver = webdriver.Chrome()  # Replace with your preferred browser\n",
    "driver.get(url)"
   ]
  },
  {
   "cell_type": "code",
   "execution_count": null,
   "id": "06367203-9dbf-4c50-ba3c-47a18c021864",
   "metadata": {},
   "outputs": [],
   "source": [
    "search_box = driver.find_element_by_id(\"search-input\")\n",
    "search_box.send_keys(\"50 most expensive cars\")\n",
    "search_box.send_keys(Keys.RETURN)\n",
    "\n",
    "search_result = WebDriverWait(driver, 10).until(\n",
    "    EC.presence_of_element_located((By.LINK_TEXT, \"50 Most Expensive Cars In The World\"))\n",
    ")\n",
    "search_result.click()\n",
    "cars_data = []\n",
    "for i in range(1, 51):\n",
    "    car_card = WebDriverWait(driver, 10).until(\n",
    "        EC.presence_of_element_located((By.XPATH, f\"//*[@id='listing']//div[{i}]\"))\n",
    "    )\n",
    "    soup = BeautifulSoup(car_card.get_attribute(\"outerHTML\"), \"html.parser\")\n",
    "\n",
    "    car_name = soup.find(\"h2\", class=\"title\").text.strip()\n",
    "    price = soup.find(\"span\", class=\"price\").text.strip()\n",
    "\n",
    "    cars_data.append({\n",
    "        \"Car Name\": car_name,\n",
    "        \"Price\": price\n",
    "    })\n",
    "df = pd.DataFrame(cars_data)\n",
    "print(df)\n",
    "driver.quit()"
   ]
  },
  {
   "cell_type": "code",
   "execution_count": null,
   "id": "e5161a54-21bf-4504-a087-f586f79ae68a",
   "metadata": {},
   "outputs": [],
   "source": []
  }
 ],
 "metadata": {
  "kernelspec": {
   "display_name": "Python 3 (ipykernel)",
   "language": "python",
   "name": "python3"
  },
  "language_info": {
   "codemirror_mode": {
    "name": "ipython",
    "version": 3
   },
   "file_extension": ".py",
   "mimetype": "text/x-python",
   "name": "python",
   "nbconvert_exporter": "python",
   "pygments_lexer": "ipython3",
   "version": "3.12.4"
  }
 },
 "nbformat": 4,
 "nbformat_minor": 5
}
