{
 "cells": [
  {
   "cell_type": "code",
   "execution_count": 10,
   "id": "2179e887-063b-4f66-8bcc-da168a426986",
   "metadata": {},
   "outputs": [],
   "source": [
    "import re\n",
    "import pandas as pd"
   ]
  },
  {
   "cell_type": "markdown",
   "id": "2087aba8-6f6e-4823-bd6b-915690722d8e",
   "metadata": {},
   "source": [
    "#Write a Python program to replace all occurrences of a space, comma, or dot with a colon."
   ]
  },
  {
   "cell_type": "code",
   "execution_count": 79,
   "id": "e5553c34-1a0a-4075-920e-cb34139d5183",
   "metadata": {},
   "outputs": [
    {
     "name": "stdout",
     "output_type": "stream",
     "text": [
      "befor_text: 'Python Exercises, PHP exercises\n",
      "After_text: 'Python:Exercises::PHP:exercises\n",
      "'Python Exercises, PHP exercises\n",
      "'Python:Exercises::PHP:exercises\n"
     ]
    }
   ],
   "source": [
    "text = \"'Python Exercises, PHP exercises\"\n",
    "def replace_chars(text):\n",
    "    return re.sub(r'[ ,\\.]', ':', text) #First method\n",
    "    #2nd method return text.replace(\" \", \":\").replace(\",\", \":\").replace(\".\", \":\")\n",
    "\n",
    "print(\"befor_text:\", text)\n",
    "print(\"After_text:\", replace_chars(text))\n",
    "print(text)\n",
    "print(replace_chars(text))"
   ]
  },
  {
   "cell_type": "markdown",
   "id": "dcb7686e-1475-46ac-be70-f58b021efdf5",
   "metadata": {},
   "source": [
    "##Create a dataframe using the dictionary below and remove everything (commas (,), !, XXXX, ;, etc.) from the columns except words."
   ]
  },
  {
   "cell_type": "code",
   "execution_count": 63,
   "id": "c1e5f4d7-135c-46b0-82cf-db43c32db6fa",
   "metadata": {},
   "outputs": [
    {
     "name": "stdout",
     "output_type": "stream",
     "text": [
      "                \n",
      "0    hello world\n",
      "1           test\n",
      "2  four five six\n"
     ]
    }
   ],
   "source": [
    "data = {'':['hello, world!', 'XXXXX test','123four, five:; six...']\n",
    "}\n",
    "df = pd.DataFrame(data)\n",
    "df['']= df[''].str.replace(r'[^\\w\\s]|[\\d_]|XXX+', '', regex=True)\n",
    "print(df)"
   ]
  },
  {
   "cell_type": "markdown",
   "id": "a299679d-e366-444c-9679-e91b12f9595c",
   "metadata": {},
   "source": [
    "##Create a function in python to find all words that are at least 4 characters long in a string. The use of the re.compile() method is mandatory."
   ]
  },
  {
   "cell_type": "code",
   "execution_count": 97,
   "id": "a9f944fe-c687-42a3-afe3-45c5e43af9ab",
   "metadata": {},
   "outputs": [
    {
     "name": "stdout",
     "output_type": "stream",
     "text": [
      "['Hello', 'world9', 'this', 'test', 'string', 'with', 'some', 'long', 'words', 'like', 'conversation', 'declaration']\n"
     ]
    }
   ],
   "source": [
    "text = \"Hello world9, this is a test string with some long words like conversation and declaration\"\n",
    "def find_long_words(text):\n",
    "    pattern = re.compile(r'\\b\\w{4,}\\b')\n",
    "    return pattern.findall(text)\n",
    "print(find_long_words(text))"
   ]
  },
  {
   "cell_type": "markdown",
   "id": "419bf3f3-30bf-4ef2-94f4-0d667c0e4540",
   "metadata": {},
   "source": [
    "##Create a function in python to find all three, four, and five character words in a string. The use of the re.compile() method is mandatory."
   ]
  },
  {
   "cell_type": "code",
   "execution_count": 93,
   "id": "9d39a6b4-34e2-40e4-9f1f-fb665402cb55",
   "metadata": {},
   "outputs": [
    {
     "name": "stdout",
     "output_type": "stream",
     "text": [
      "['Hello', 'world', 'this', 'test', 'with', 'some', 'short', 'words', 'like', 'cat', 'dog', 'and', 'sun']\n"
     ]
    }
   ],
   "source": [
    "text = \"Hello world, this is a test string with some short words like cat, dog, and sun\"\n",
    "def find_short_words(text):\n",
    "    pattern = re.compile(r'\\b\\w{3,5}\\b')\n",
    "    return pattern.findall(text)\n",
    "print(find_short_words(text))"
   ]
  },
  {
   "cell_type": "markdown",
   "id": "dc0c61d2-8d40-4de8-a0cb-3cab97f3864d",
   "metadata": {},
   "source": [
    "##Create a function in Python to remove the parenthesis in a list of strings. The use of the re.compile() method is mandatory."
   ]
  },
  {
   "cell_type": "code",
   "execution_count": 51,
   "id": "8e709439-ec37-4d24-a50e-dda9c49f64eb",
   "metadata": {},
   "outputs": [
    {
     "name": "stdout",
     "output_type": "stream",
     "text": [
      "example .com\n",
      "hr@fliprobo .com\n",
      "github .com\n",
      "Hello Data Science World\n",
      "Data Scientist\n"
     ]
    }
   ],
   "source": [
    "strings = [\"example (.com)\", \"hr@fliprobo (.com)\", \"github (.com)\", \"Hello (Data Science World)\", \"Data (Scientist)\"]\n",
    "def remove_parentheses(strings):\n",
    "    pattern = re.compile(r'\\(|\\)')\n",
    "    return [' '.join(s.split()) for s in [pattern.sub(' ', string) for string in strings]]\n",
    "print(*remove_parentheses(strings), sep='\\n')"
   ]
  },
  {
   "cell_type": "code",
   "execution_count": null,
   "id": "b0f1137d-8632-4b16-af50-c8483d0c2021",
   "metadata": {},
   "outputs": [],
   "source": [
    "##Write a python program to remove the parenthesis area from the text stored in the text file using Regular Expression."
   ]
  },
  {
   "cell_type": "code",
   "execution_count": 125,
   "id": "97daa72a-8d31-4882-bacb-435401c14657",
   "metadata": {},
   "outputs": [
    {
     "name": "stdout",
     "output_type": "stream",
     "text": [
      "\"example\", \"hr@fliprobo\", \"github\", \"Hello\", \"Data\"\n"
     ]
    }
   ],
   "source": [
    "file_handle= open('Downloads/test.txt','r')\n",
    "ln=file_handle.readline()\n",
    "ln=re.sub(r'\\s*\\([^)]*\\)', '', ln)\n",
    "print(ln)"
   ]
  },
  {
   "cell_type": "code",
   "execution_count": null,
   "id": "a177eb43-4b55-4683-b936-82ab675b0163",
   "metadata": {},
   "outputs": [],
   "source": [
    "##Write a regular expression in Python to split a string into uppercase letters."
   ]
  },
  {
   "cell_type": "code",
   "execution_count": 143,
   "id": "8a8fa55d-5064-4be3-a16e-65d1af562079",
   "metadata": {
    "scrolled": true
   },
   "outputs": [
    {
     "name": "stdout",
     "output_type": "stream",
     "text": [
      " Importance Of Regular Expressions In Python\n"
     ]
    }
   ],
   "source": [
    "text=\"ImportanceOfRegularExpressionsInPython\"\n",
    "data = re.sub(r'([A-Z])', r' \\1', text)\n",
    "print(data)"
   ]
  },
  {
   "cell_type": "code",
   "execution_count": null,
   "id": "a10fad16-b6e4-4988-81cd-02ee2ed2ef85",
   "metadata": {},
   "outputs": [],
   "source": [
    "##Create a function in python to insert spaces between words starting with numbers"
   ]
  },
  {
   "cell_type": "code",
   "execution_count": 151,
   "id": "24b7e07a-0c64-4f03-bd75-7dcbe79b60e8",
   "metadata": {},
   "outputs": [
    {
     "name": "stdout",
     "output_type": "stream",
     "text": [
      "RegularExpression 1IsAn 2ImportantTopic 3InPython\n"
     ]
    }
   ],
   "source": [
    "text= \"RegularExpression1IsAn2ImportantTopic3InPython\"\n",
    "data= re.sub(r'(\\d)', r' \\1',text)\n",
    "print(data)"
   ]
  },
  {
   "cell_type": "code",
   "execution_count": null,
   "id": "dc8e1bfd-ebe2-45da-b909-0d8ca6fd9840",
   "metadata": {},
   "outputs": [],
   "source": [
    "#Create a function in python to insert spaces between words starting with capital letters or with numbers"
   ]
  },
  {
   "cell_type": "code",
   "execution_count": 167,
   "id": "bf3dc10c-77a3-4203-b343-0cce43324d98",
   "metadata": {},
   "outputs": [
    {
     "name": "stdout",
     "output_type": "stream",
     "text": [
      " Regular Expression 1 Is An 2 Important Topic 3 In Python\n"
     ]
    }
   ],
   "source": [
    "text = \"RegularExpression1IsAn2ImportantTopic3InPython\"\n",
    "data = re.sub(r'([A-Z]|\\d)', r' \\1', text)\n",
    "print(data)"
   ]
  },
  {
   "cell_type": "code",
   "execution_count": null,
   "id": "84e766b7-1265-4786-915d-1c961178f149",
   "metadata": {},
   "outputs": [],
   "source": [
    "##Use the github link below to read the data and create a dataframe. After creating the dataframe extract the first 6 letters of each country and store in the dataframe under a new column called first_five_letters."
   ]
  },
  {
   "cell_type": "code",
   "execution_count": 169,
   "id": "aee63bfc-d928-4b31-a17b-f2337ffe734f",
   "metadata": {},
   "outputs": [
    {
     "name": "stdout",
     "output_type": "stream",
     "text": [
      "         Country                           Region  Happiness Rank  \\\n",
      "0    Switzerland                   Western Europe               1   \n",
      "1        Iceland                   Western Europe               2   \n",
      "2        Denmark                   Western Europe               3   \n",
      "3         Norway                   Western Europe               4   \n",
      "4         Canada                    North America               5   \n",
      "..           ...                              ...             ...   \n",
      "153       Rwanda               Sub-Saharan Africa             154   \n",
      "154        Benin               Sub-Saharan Africa             155   \n",
      "155        Syria  Middle East and Northern Africa             156   \n",
      "156      Burundi               Sub-Saharan Africa             157   \n",
      "157         Togo               Sub-Saharan Africa             158   \n",
      "\n",
      "     Happiness Score  Standard Error  Economy (GDP per Capita)   Family  \\\n",
      "0              7.587         0.03411                   1.39651  1.34951   \n",
      "1              7.561         0.04884                   1.30232  1.40223   \n",
      "2              7.527         0.03328                   1.32548  1.36058   \n",
      "3              7.522         0.03880                   1.45900  1.33095   \n",
      "4              7.427         0.03553                   1.32629  1.32261   \n",
      "..               ...             ...                       ...      ...   \n",
      "153            3.465         0.03464                   0.22208  0.77370   \n",
      "154            3.340         0.03656                   0.28665  0.35386   \n",
      "155            3.006         0.05015                   0.66320  0.47489   \n",
      "156            2.905         0.08658                   0.01530  0.41587   \n",
      "157            2.839         0.06727                   0.20868  0.13995   \n",
      "\n",
      "     Health (Life Expectancy)  Freedom  Trust (Government Corruption)  \\\n",
      "0                     0.94143  0.66557                        0.41978   \n",
      "1                     0.94784  0.62877                        0.14145   \n",
      "2                     0.87464  0.64938                        0.48357   \n",
      "3                     0.88521  0.66973                        0.36503   \n",
      "4                     0.90563  0.63297                        0.32957   \n",
      "..                        ...      ...                            ...   \n",
      "153                   0.42864  0.59201                        0.55191   \n",
      "154                   0.31910  0.48450                        0.08010   \n",
      "155                   0.72193  0.15684                        0.18906   \n",
      "156                   0.22396  0.11850                        0.10062   \n",
      "157                   0.28443  0.36453                        0.10731   \n",
      "\n",
      "     Generosity  Dystopia Residual first_five_letters  \n",
      "0       0.29678            2.51738             Switze  \n",
      "1       0.43630            2.70201             Icelan  \n",
      "2       0.34139            2.49204             Denmar  \n",
      "3       0.34699            2.46531             Norway  \n",
      "4       0.45811            2.45176             Canada  \n",
      "..          ...                ...                ...  \n",
      "153     0.22628            0.67042             Rwanda  \n",
      "154     0.18260            1.63328              Benin  \n",
      "155     0.47179            0.32858              Syria  \n",
      "156     0.19727            1.83302             Burund  \n",
      "157     0.16681            1.56726               Togo  \n",
      "\n",
      "[158 rows x 13 columns]\n"
     ]
    }
   ],
   "source": [
    "url = \"https://raw.githubusercontent.com/dsrscientist/DSData/master/happiness_score_dataset.csv\"\n",
    "df = pd.read_csv(url)\n",
    "df['first_five_letters'] = df['Country'].str[:6]\n",
    "print(df)"
   ]
  },
  {
   "cell_type": "markdown",
   "id": "ee1d43e9-4b75-471e-abdd-f1f3f409c3f0",
   "metadata": {},
   "source": [
    "##Write a Python program to match a string that contains only upper and lowercase letters, numbers, and underscores."
   ]
  },
  {
   "cell_type": "code",
   "execution_count": null,
   "id": "108d9aaa-3eee-4cc5-8ceb-cf12102b8be5",
   "metadata": {},
   "outputs": [],
   "source": [
    "##Python program to match a string that contains only upper and lowercase letters, numbers, and underscores."
   ]
  },
  {
   "cell_type": "code",
   "execution_count": 171,
   "id": "f0444287-2110-48f3-8418-4d68917fd772",
   "metadata": {},
   "outputs": [
    {
     "name": "stdout",
     "output_type": "stream",
     "text": [
      "Match found\n"
     ]
    }
   ],
   "source": [
    "text = \"HelloWorld123\"\n",
    "if re.match(r'^[a-zA-Z0-9_]+$', text):\n",
    "    print(\"Match found\")\n",
    "else:\n",
    "    print(\"No match found\")"
   ]
  },
  {
   "cell_type": "code",
   "execution_count": 18,
   "id": "0281af7a-2695-4d67-abf8-dbf0245856bd",
   "metadata": {},
   "outputs": [
    {
     "name": "stdout",
     "output_type": "stream",
     "text": [
      "start with digit\n"
     ]
    }
   ],
   "source": [
    "text= \"1234HelloWorld\"\n",
    "if re.match(r'^\\d', text):\n",
    " print(\"start with digit\")\n",
    "else:\n",
    " print(\"not start with digit\")"
   ]
  },
  {
   "cell_type": "code",
   "execution_count": null,
   "id": "81da23c4-9f42-4263-87ca-5948cd37bd63",
   "metadata": {},
   "outputs": [],
   "source": [
    "#Write a Python program to remove leading zeros from an IP address"
   ]
  },
  {
   "cell_type": "code",
   "execution_count": 79,
   "id": "b0afd145-2673-4fe9-b5f5-9207baa3c428",
   "metadata": {},
   "outputs": [
    {
     "name": "stdout",
     "output_type": "stream",
     "text": [
      "192.168.10.10\n"
     ]
    }
   ],
   "source": [
    "text= \"192.168.0010.0010\"\n",
    "rs = re.sub(r'\\b0+(\\d)', r'\\1', text)\n",
    "print(rs)"
   ]
  },
  {
   "cell_type": "code",
   "execution_count": null,
   "id": "1f2bb81c-14f2-4feb-baec-eec11daae5bc",
   "metadata": {},
   "outputs": [],
   "source": [
    "#Write a regular expression in python to match a date string in the form of Month name followed by day number and year stored in a text file"
   ]
  },
  {
   "cell_type": "code",
   "execution_count": 77,
   "id": "36350301-a9e3-493c-9dcd-e2b6bfe42bce",
   "metadata": {},
   "outputs": [
    {
     "name": "stdout",
     "output_type": "stream",
     "text": [
      "August 15th 1947\n"
     ]
    }
   ],
   "source": [
    "text = \"On August 15th 1947 that India was declared independent from British colonialism, and the reins of control were handed over to the leaders of the Country\"\n",
    "rs = re.search(r'\\b\\w+\\s\\d+(st|nd|rd|th)\\s\\d{4}\\b', text)\n",
    "print(rs.group())"
   ]
  },
  {
   "cell_type": "code",
   "execution_count": null,
   "id": "9de4aafb-1831-4cbd-9f7b-9276d517c957",
   "metadata": {},
   "outputs": [],
   "source": [
    "#- Write a Python program to search some literals strings in a string"
   ]
  },
  {
   "cell_type": "code",
   "execution_count": 71,
   "id": "fcad1270-dcc5-4623-b84c-f4f30224b04e",
   "metadata": {},
   "outputs": [
    {
     "name": "stdout",
     "output_type": "stream",
     "text": [
      "fox found\n",
      "dog found\n",
      "horse not found\n"
     ]
    }
   ],
   "source": [
    "text = \"The quick brown fox jumps over the lazy dog.\"\n",
    "words = ['fox', 'dog', 'horse']\n",
    "for word in words:\n",
    "    if re.search(word, text):\n",
    "        print(f\"{word} found\")\n",
    "    else:\n",
    "        print(f\"{word} not found\")"
   ]
  },
  {
   "cell_type": "code",
   "execution_count": null,
   "id": "e949f21f-2d28-4bec-8995-5d46f8160bd9",
   "metadata": {},
   "outputs": [],
   "source": [
    "#Write a Python program to search a literals string in a string and also find the location within the original string where the pattern occurs"
   ]
  },
  {
   "cell_type": "code",
   "execution_count": 81,
   "id": "9d4bc219-8262-4988-befd-09660d219cab",
   "metadata": {},
   "outputs": [
    {
     "name": "stdout",
     "output_type": "stream",
     "text": [
      "fox found at position 16\n"
     ]
    }
   ],
   "source": [
    "text = \"The quick brown fox jumps over the lazy dog.\"\n",
    "word = 'fox'\n",
    "rs = re.search(word, text)\n",
    "if rs:\n",
    "    print(f\"{word} found at position {rs.start()}\")\n",
    "else:\n",
    "    print(f\"{word} not found\")"
   ]
  },
  {
   "cell_type": "code",
   "execution_count": null,
   "id": "867476f1-51e7-4ea3-82d7-e40688ef39a8",
   "metadata": {},
   "outputs": [],
   "source": [
    "#Write a Python program to find the substrings within a string."
   ]
  },
  {
   "cell_type": "code",
   "execution_count": 83,
   "id": "797d752d-e0bc-4e51-b1a0-4de591778d89",
   "metadata": {},
   "outputs": [
    {
     "name": "stdout",
     "output_type": "stream",
     "text": [
      "['exercises', 'exercises', 'exercises']\n"
     ]
    }
   ],
   "source": [
    "text = \"Python exercises, PHP exercises, C# exercises\"\n",
    "pattern = 'exercises'\n",
    "rs = re.findall(pattern, text)\n",
    "print(rs)"
   ]
  },
  {
   "cell_type": "code",
   "execution_count": null,
   "id": "70871f87-a20b-4c9e-adfe-a9429e699bd8",
   "metadata": {},
   "outputs": [],
   "source": [
    "#Write a Python program to find the occurrence and position of the substrings within a string."
   ]
  },
  {
   "cell_type": "code",
   "execution_count": 87,
   "id": "53d78539-44ad-4459-bca2-07a0998d1fbd",
   "metadata": {},
   "outputs": [
    {
     "name": "stdout",
     "output_type": "stream",
     "text": [
      "Found 'exercises' at position 7\n",
      "Found 'exercises' at position 22\n",
      "Found 'exercises' at position 36\n"
     ]
    }
   ],
   "source": [
    "text = \"Python exercises, PHP exercises, C# exercises\"\n",
    "pattern = 'exercises'\n",
    "rs = re.finditer(pattern, text)\n",
    "for match in rs:\n",
    "    print(f\"Found '{pattern}' at position {match.start()}\")\n"
   ]
  },
  {
   "cell_type": "code",
   "execution_count": null,
   "id": "ac4b9e81-439f-44b4-9508-c0ff4bbf9ad1",
   "metadata": {},
   "outputs": [],
   "source": [
    "#Write a Python program to convert a date of yyyy-mm-dd format to dd-mm-yyyy format."
   ]
  },
  {
   "cell_type": "code",
   "execution_count": 90,
   "id": "c58edbd2-2430-4be0-bce6-21021f9a58b6",
   "metadata": {},
   "outputs": [
    {
     "name": "stdout",
     "output_type": "stream",
     "text": [
      "25-07-2022\n"
     ]
    }
   ],
   "source": [
    "text = \"2022-07-25\"\n",
    "rs = re.sub(r'(\\d{4})-(\\d{2})-(\\d{2})', r'\\3-\\2-\\1', text)\n",
    "print(rs)"
   ]
  },
  {
   "cell_type": "code",
   "execution_count": null,
   "id": "7f01950e-4f2a-49c0-9f9b-89254700a88f",
   "metadata": {},
   "outputs": [],
   "source": [
    "#Create a function in python to find all decimal numbers with a precision of 1 or 2 in a string. The use of the re.compile() method is mandatory."
   ]
  },
  {
   "cell_type": "code",
   "execution_count": 92,
   "id": "b990fac2-37b9-480d-b240-855075ca3560",
   "metadata": {},
   "outputs": [
    {
     "name": "stdout",
     "output_type": "stream",
     "text": [
      "['01.12', '145.8', '3.01', '27.25', '0.25']\n"
     ]
    }
   ],
   "source": [
    "text = \"01.12 0132.123 2.31875 145.8 3.01 27.25 0.25\"\n",
    "pattern = re.compile(r'\\b\\d+\\.\\d{1,2}\\b')\n",
    "rs = pattern.findall(text)\n",
    "print(rs)\n"
   ]
  },
  {
   "cell_type": "code",
   "execution_count": null,
   "id": "26304e96-9d3a-40a7-b8ce-c9024f7ef40d",
   "metadata": {},
   "outputs": [],
   "source": [
    "#Write a Python program to separate and print the numbers and their position of a given string."
   ]
  },
  {
   "cell_type": "code",
   "execution_count": 98,
   "id": "a61ba962-484e-408c-b1f9-2be6aba9df38",
   "metadata": {},
   "outputs": [
    {
     "name": "stdout",
     "output_type": "stream",
     "text": [
      "Found '123' at position 5\n",
      "Found '456' at position 13\n"
     ]
    }
   ],
   "source": [
    "text = \"Hello123World456\"\n",
    "result = re.finditer(r'\\d+', text)\n",
    "for match in result:\n",
    "    print(f\"Found '{match.group()}' at position {match.start()}\")"
   ]
  },
  {
   "cell_type": "code",
   "execution_count": null,
   "id": "4e599f85-9c12-4be1-9b36-221fbc9f0f00",
   "metadata": {},
   "outputs": [],
   "source": [
    "#Write a regular expression in python program to extract maximum/largest numeric value from a string."
   ]
  },
  {
   "cell_type": "code",
   "execution_count": 100,
   "id": "30c683b8-7bb4-4095-a7a3-60c926609e73",
   "metadata": {},
   "outputs": [
    {
     "name": "stdout",
     "output_type": "stream",
     "text": [
      "950\n"
     ]
    }
   ],
   "source": [
    "def extract_max_numeric_value(s):\n",
    "    pattern = r'\\b\\d+\\b'\n",
    "    num = [int(x) for x in re.findall(pattern, s)]\n",
    "    return max(num)\n",
    "s = 'My marks in each semester are: 947, 896, 926, 524, 734, 950, 642'\n",
    "print(extract_max_numeric_value(s))"
   ]
  },
  {
   "cell_type": "code",
   "execution_count": null,
   "id": "9a3b97c4-e737-4531-abda-c00a9e5acf84",
   "metadata": {},
   "outputs": [],
   "source": [
    "#Create a function in python to insert spaces between words starting with capital letters."
   ]
  },
  {
   "cell_type": "code",
   "execution_count": 104,
   "id": "fa4d4346-553c-4074-9a8e-06641b293955",
   "metadata": {},
   "outputs": [
    {
     "name": "stdout",
     "output_type": "stream",
     "text": [
      " Regular Expression Is An Important Topic In Python\n"
     ]
    }
   ],
   "source": [
    "text = \"RegularExpressionIsAnImportantTopicInPython\"\n",
    "def insert_spaces(text):\n",
    "    return re.sub(r'([A-Z])', r' \\1', text)\n",
    "print(insert_spaces(text))"
   ]
  },
  {
   "cell_type": "code",
   "execution_count": null,
   "id": "ae40a57f-698e-4ba1-b25e-d5e9ce349455",
   "metadata": {},
   "outputs": [],
   "source": [
    "#Python regex to find sequences of one upper case letter followed by lower case letters"
   ]
  },
  {
   "cell_type": "code",
   "execution_count": 110,
   "id": "332881ee-1e94-457c-af2f-89ffbe503054",
   "metadata": {},
   "outputs": [
    {
     "name": "stdout",
     "output_type": "stream",
     "text": [
      "['Small', 'World']\n"
     ]
    }
   ],
   "source": [
    "text = \"SmallWorld\"\n",
    "pr = re.findall(r'[A-Z][a-z]+', text)\n",
    "print(pr)"
   ]
  },
  {
   "cell_type": "code",
   "execution_count": null,
   "id": "ff801550-798f-476b-a767-05141d48f311",
   "metadata": {},
   "outputs": [],
   "source": [
    "#Write a Python program to remove continuous duplicate words from Sentence using Regular Expression"
   ]
  },
  {
   "cell_type": "code",
   "execution_count": 114,
   "id": "e7e41981-4a97-4461-a492-00b233f6a00b",
   "metadata": {},
   "outputs": [
    {
     "name": "stdout",
     "output_type": "stream",
     "text": [
      "Hello hello world\n"
     ]
    }
   ],
   "source": [
    "text = \"Hello hello world world\"\n",
    "result = re.sub(r'\\b(\\w+)\\s+\\1\\b', r'\\1', text)\n",
    "print(result)"
   ]
  },
  {
   "cell_type": "code",
   "execution_count": null,
   "id": "7b321ad1-d903-4e47-8520-1957898a913c",
   "metadata": {},
   "outputs": [],
   "source": [
    "#Write a python program using RegEx to accept string ending with alphanumeric character."
   ]
  },
  {
   "cell_type": "code",
   "execution_count": 119,
   "id": "41d5462e-9ffc-4fa4-89ab-6775070b428f",
   "metadata": {},
   "outputs": [
    {
     "name": "stdout",
     "output_type": "stream",
     "text": [
      " ends with alphanumeric character\n"
     ]
    }
   ],
   "source": [
    "text = \"YelloWorld123\"\n",
    "if re.search(r'\\w$', text):\n",
    "    print(\" ends with alphanumeric character\")\n",
    "else:\n",
    "    print(\"does not end with alphanumeric character\")"
   ]
  },
  {
   "cell_type": "code",
   "execution_count": null,
   "id": "c581fe7b-eb5d-4606-b604-ff455522cab8",
   "metadata": {},
   "outputs": [],
   "source": [
    "#Write a python program using RegEx to extract the hashtags"
   ]
  },
  {
   "cell_type": "code",
   "execution_count": 121,
   "id": "d2a05c50-2727-4aad-a8eb-8cb0df14f4b0",
   "metadata": {},
   "outputs": [
    {
     "name": "stdout",
     "output_type": "stream",
     "text": [
      "['#Doltiwal', '#xyzabc', '#Demonetization']\n"
     ]
    }
   ],
   "source": [
    "text = \"\"\"RT @kapil_kausik: #Doltiwal I mean #xyzabc is \"hurt\" by #Demonetization as the same has rendered USELESS <ed><U+00A0><U+00BD><ed><U+00B1><U+0089> \"acquired funds\" No wo\"\"\"\n",
    "rs = re.findall(r'#\\w+', text)\n",
    "print(rs)\n"
   ]
  },
  {
   "cell_type": "code",
   "execution_count": null,
   "id": "d04b0a5e-77f3-4899-a95d-5617e34c2346",
   "metadata": {},
   "outputs": [],
   "source": [
    "#Write a python program using RegEx to remove <U+..> like symbols"
   ]
  },
  {
   "cell_type": "code",
   "execution_count": 123,
   "id": "ddfdb60d-f353-4b2e-93be-315b71cf7d10",
   "metadata": {},
   "outputs": [
    {
     "name": "stdout",
     "output_type": "stream",
     "text": [
      "@Jags123456 Bharat band on 28??<ed><ed>Those who  are protesting #demonetization  are all different party leaders\n"
     ]
    }
   ],
   "source": [
    "text = \"@Jags123456 Bharat band on 28??<ed><U+00A0><U+00BD><ed><U+00B8><U+0082>Those who  are protesting #demonetization  are all different party leaders\"\n",
    "act = re.sub(r'<U\\+\\w+>', '', text)\n",
    "print(act)"
   ]
  },
  {
   "cell_type": "code",
   "execution_count": null,
   "id": "521c431e-6fec-4677-92d8-148efc0899ac",
   "metadata": {},
   "outputs": [],
   "source": [
    "#Write a python program to extract dates from the text stored in the text file"
   ]
  },
  {
   "cell_type": "code",
   "execution_count": 125,
   "id": "4abd9963-8af4-4e78-bcb5-1080fdcc3845",
   "metadata": {},
   "outputs": [
    {
     "name": "stdout",
     "output_type": "stream",
     "text": [
      "['12-09-1992', '15-12-1999']\n"
     ]
    }
   ],
   "source": [
    "with open('Downloads/text.txt', 'r') as file:\n",
    "    text = file.read()\n",
    "result = re.findall(r'\\d{2}-\\d{2}-\\d{4}', text)\n",
    "print(result)"
   ]
  },
  {
   "cell_type": "code",
   "execution_count": null,
   "id": "c15925c2-7457-487d-aaa3-c202244ac9de",
   "metadata": {},
   "outputs": [],
   "source": [
    "#Create a function in python to remove all words from a string of length between 2 and 4."
   ]
  },
  {
   "cell_type": "code",
   "execution_count": 127,
   "id": "afabc72e-3dae-4447-aac0-022e47c0e6e9",
   "metadata": {},
   "outputs": [
    {
     "name": "stdout",
     "output_type": "stream",
     "text": [
      " following example creates  ArrayList  a capacity   elements. 4 elements   added   ArrayList   ArrayList  trimmed accordingly.\n"
     ]
    }
   ],
   "source": [
    "text = \"The following example creates an ArrayList with a capacity of 50 elements. 4 elements are then added to the ArrayList and the ArrayList is trimmed accordingly.\"\n",
    "def remove_short_words(text):\n",
    "    pattern = re.compile(r'\\b\\w{2,4}\\b')\n",
    "    return pattern.sub('', text)\n",
    "print(remove_short_words(text)) "
   ]
  },
  {
   "cell_type": "code",
   "execution_count": null,
   "id": "ad5e13d5-b8f5-41fa-b90b-0347aaf4c9a3",
   "metadata": {},
   "outputs": [],
   "source": []
  },
  {
   "cell_type": "code",
   "execution_count": null,
   "id": "f6285260-96ef-4f42-8193-acc16024e3e2",
   "metadata": {},
   "outputs": [],
   "source": []
  },
  {
   "cell_type": "code",
   "execution_count": null,
   "id": "747b67b2-e10f-4b29-9a49-5966252fd771",
   "metadata": {},
   "outputs": [],
   "source": []
  },
  {
   "cell_type": "code",
   "execution_count": null,
   "id": "717112de-2f99-4f79-926f-b7a2423ba69d",
   "metadata": {},
   "outputs": [],
   "source": []
  }
 ],
 "metadata": {
  "kernelspec": {
   "display_name": "Python 3 (ipykernel)",
   "language": "python",
   "name": "python3"
  },
  "language_info": {
   "codemirror_mode": {
    "name": "ipython",
    "version": 3
   },
   "file_extension": ".py",
   "mimetype": "text/x-python",
   "name": "python",
   "nbconvert_exporter": "python",
   "pygments_lexer": "ipython3",
   "version": "3.12.4"
  }
 },
 "nbformat": 4,
 "nbformat_minor": 5
}
